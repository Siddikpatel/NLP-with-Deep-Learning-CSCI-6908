{
 "cells": [
  {
   "cell_type": "markdown",
   "metadata": {
    "id": "pamYYEdspT4E"
   },
   "source": [
    "# CSCI6908: Assignment 4 - GPT from Scratch."
   ]
  },
  {
   "cell_type": "markdown",
   "metadata": {},
   "source": [
    "**<span style=\"color:red\">Deadline: Monday, March 17th, 2025</span>**"
   ]
  },
  {
   "cell_type": "markdown",
   "metadata": {
    "id": "CJoKdFfdpjDd"
   },
   "source": [
    "# Part 0: Introduction\n",
    "\n",
    "During the lecture, you have covered the Transformers architecture. Such architecture represents the backbone of many state-of-the-art large language models. In this assignment you will implement from scratch a Generative Pre-trained Transformer (GPT) model, which is nothing but a decoder-only Transformer. You will implement from scratch using `pytorch` the different building blocks that constitute the GPT model.  \n",
    "\n",
    "This assignment assumes some familiarity with the framework. You can consult `pytorch`'s [documentation](https://pytorch.org/tutorials/beginner/deep_learning_60min_blitz.html) to brush up on your knowledge.  \n",
    "\n",
    "The main goals of this assignment are:  \n",
    "  - Implement the Causal Self-Attention layer and use it to form the Multihead-Attention block.\n",
    "  - Implement contemporary activation functions used in modern day language models.\n",
    "  - Implement the GPT model and its subcomponents.\n",
    "  - Pre-train a generative model from scratch."
   ]
  },
  {
   "cell_type": "markdown",
   "metadata": {
    "jp-MarkdownHeadingCollapsed": true
   },
   "source": [
    "## Requirements\n",
    "Before you can start, make sure you install the dependencies list in the `requirements.txt` file. It is advised that you use a Python virtual enviornment. You can consult how you can a add virtual enviornment to Jupyter's kernal through this [guide](https://janakiev.com/blog/jupyter-virtual-envs/).  \n",
    "In this assignment you will train a GPT model for a duration of at least $20K$ steps (not epochs). If you do not have access to enough computational resources here are your options:\n",
    "- Use a configuration that yields a smaller GPT model. For instance, use only $4$ layers instead of $6$.\n",
    "- Use [Google Colab](https://colab.research.google.com/).\n",
    "- Use Dal's Brookside and Calvert [servers](https://www.dal.ca/faculty/computerscience/for-faculty-staff/technical-services.html). Check under _Academic compute enviornment_ > _GPU Processing_. There you will find links that redirect you to the Jupyter lab interface hosted on these servers.\n",
    "\n",
    "**Please note that your grade will depend on the implementation and not on the running results. Hence, if you cannot train these models fully, you can still get the full grade if your implementation is correct.**\n",
    "\n",
    "## Submission Guidelines\n",
    "Add the TA as _Maintainer_ to your fork and submit your fork's URL on Brightspace. Push the modifications you have made on this notebook to your fork.  \n",
    "\n",
    "## Submission of SDAs\n",
    "For this assignment, SDAs should be submitted through Brightspace. You will find the submission box under _Assignments_ > _SDA_. **<span style=\"color:red\">Please note that you are only allowed to submit 2 SDAs for this course. Hence, if you already reached that limit, you can no longer submit one. In addition, no SDA will be considered if sent by email. All SDAs should be submitted through Brightspace at least 24 hours prior to the deadline. The PDF file should be following this format: `<BANNER-ID>_<FIRST-NAME>_<LAST_NAME>_<ASSIGNMENT-NUMBER>.pdf`</span>**  \n",
    "\n",
    "If you have any questions, please do not hesitate to post them on the course’s Teams channel. If you have not joined already, you can do so by using this code: `ot45hmp`.\n",
    "\n",
    "Good luck!"
   ]
  },
  {
   "cell_type": "markdown",
   "metadata": {
    "id": "BzWbGllPrhYU"
   },
   "source": [
    "## Part 1: Multihead-Self Attention"
   ]
  },
  {
   "cell_type": "markdown",
   "metadata": {
    "id": "nd3ZZZNjtrYR"
   },
   "source": [
    "<center><img src=\"https://production-media.paperswithcode.com/methods/multi-head-attention_l1A3G7a.png\" align=\"center\" width=\"350px\">\n",
    "</center>\n",
    "Source: Vaswani *et al.*\n"
   ]
  },
  {
   "cell_type": "code",
   "execution_count": null,
   "metadata": {},
   "outputs": [],
   "source": [
    "# Imports\n",
    "import torch.nn as nn\n",
    "import torch\n",
    "import torch.nn.functional as F"
   ]
  },
  {
   "cell_type": "markdown",
   "metadata": {
    "id": "t_po2Hx3Z2Yb"
   },
   "source": [
    "### Part 1.1: Causal Self-attention Layer:\n",
    "\n",
    "The Causal Self-attention layer is a fundamental building block of the GPT (Generative Pre-trained Transformer) architecture. This layer consists of several key components that work together to enable the model to focus on relevant parts of the input sequence while maintaining the autoregressive property. The main components of a causal self-attention head are:  \n",
    "\n",
    "\n",
    "1. Linear projections: Three separate linear transformations are applied to the input to create the query ($Q$), key ($K$), and value ($V$) matrices: $Q = XW_q, K = XW_k, V = XW_v$ where $X$ is the input tensor, and $W_q$, $W_k$, and $W_v$ are learnable weight matrices.\n",
    "\n",
    "2. Scaled dot-product attention: The attention mechanism is computed as: $\\text{Attention}(Q, K, V) = \\text{softmax}\\left(\\frac{QK^T}{\\sqrt{d_k}} + M\\right)V$ where $d_k$ is the dimensionality of the key vectors, and $M$ is the causal mask.\n",
    "\n",
    "3. Causal masking: A lower triangular matrix $M$ is applied to ensure that each token can only attend to itself and previous tokens: $M_{ij} = \\begin{cases} 0 & \\text{if } i \\geq j \\ -\\infty & \\text{if } i < j \\end{cases}$\n",
    "\n",
    "\n",
    "These components work together to create a causal self-attention mechanism that captures dependencies between tokens while respecting the sequential nature of the input, which is crucial for language modeling tasks."
   ]
  },
  {
   "cell_type": "markdown",
   "metadata": {},
   "source": [
    "#### Tasks\n",
    "\n",
    "Complete the implementation of the `__init__` and `forward` functions of the `CausalSelfAttention`.  \n",
    "**Note that you are only allowed to use the following `pytorch` APIs: `nn.Linear`, `nn.Dropout`, `torch.softmax`/`nn.Softmax`. You are allowed to use all tensor operations such as .transpose(), .size() and so on**."
   ]
  },
  {
   "cell_type": "code",
   "execution_count": null,
   "metadata": {
    "id": "XijKRDjdpRoR"
   },
   "outputs": [],
   "source": [
    "class CausalSelfAttention(nn.Module):\n",
    "    def __init__(self, d_in, d_out, context_length, dropout, qkv_bias=False):\n",
    "      \"\"\"\n",
    "      d_in: embedding dimension\n",
    "      d_out: embedding dimension\n",
    "      context_length: maxmimum number of tokens in the sequence\n",
    "      dropout: dropout rate\n",
    "      qkv_bias: flag to whether use bias for the query, key and value layers or not.\n",
    "      \"\"\"\n",
    "      super().__init__()\n",
    "      # Define the netowrk structure here\n",
    "      self.query = nn.Linear(d_in, d_out, bias=qkv_bias)\n",
    "      self.key = nn.Linear(d_in, d_out, bias=qkv_bias)\n",
    "      self.value = nn.Linear(d_in, d_out, bias=qkv_bias)\n",
    "      self.attn_dropout = nn.Dropout(dropout)\n",
    "      \n",
    "      self.register_buffer(\n",
    "          \"mask\", \n",
    "          torch.tril(torch.ones(context_length, context_length))\n",
    "      )\n",
    "      \n",
    "      self.d_out = d_out\n",
    "\n",
    "    def forward(self, x):\n",
    "      batch_size, seq_len, d_in = x.size()\n",
    "        \n",
    "      q = self.query(x) # (batch_size, seq_len, d_out)\n",
    "      k = self.key(x)   \n",
    "      v = self.value(x)  \n",
    "      \n",
    "      attn_scores = (q @ k.transpose(-2, -1)) / (self.d_out ** 0.5)\n",
    "    \n",
    "      causal_mask = self.mask[:seq_len, :seq_len]\n",
    "      \n",
    "      attn_scores = attn_scores.masked_fill(causal_mask == 0, float('-inf'))\n",
    "      \n",
    "      attn_weights = torch.softmax(attn_scores, dim=-1)\n",
    "      \n",
    "      attn_weights = self.attn_dropout(attn_weights)\n",
    "      \n",
    "      output = attn_weights @ v \n",
    "      \n",
    "      return output"
   ]
  },
  {
   "cell_type": "markdown",
   "metadata": {
    "id": "qoBZo3eGAhas"
   },
   "source": [
    "### Part 1.2: Multihead Self-attention Layer"
   ]
  },
  {
   "cell_type": "markdown",
   "metadata": {
    "id": "cLsdTPMHBahA"
   },
   "source": [
    "Multihead Self-attention extends the concept of single-head attention by allowing the model to jointly attend to information from different representation subspaces at different positions. It enhances the model's capability to capture diverse relationships within the input sequence by employing multiple attention heads in parallel. Each head operates independently, allowing the model to focus on different aspects of the input simultaneously. The output of this layer is calculated as follows:\n",
    "\n",
    "$\\text{MultiHead}(X) = \\text{Concat}(\\text{head}_1, \\ldots, \\text{head}_h)W^O$\n",
    "\n",
    "Where $h$ is the number of attention heads, and $W^O \\in \\mathbb{R}^{hd_v \\times d_{model}}$ is the output projection matrix."
   ]
  },
  {
   "cell_type": "markdown",
   "metadata": {},
   "source": [
    "#### Tasks\n",
    "Complete the implementation of the `__init__` and `forward` functions of the `MultiHeadAttention` class."
   ]
  },
  {
   "cell_type": "code",
   "execution_count": null,
   "metadata": {
    "id": "jE4Ya62VAiDY"
   },
   "outputs": [],
   "source": [
    "class MultiHeadAttention(nn.Module):\n",
    "    def __init__(self, d_in, d_out, context_length, dropout, num_heads, qkv_bias=False):\n",
    "      \"\"\"\n",
    "      d_in: embedding dimension\n",
    "      d_out: embedding dimension of one attention head\n",
    "      context_length: maxmimum number of tokens in the sequence\n",
    "      dropout: dropout rate\n",
    "      num_heads: number of heads\n",
    "      qkv_bias: flag to whether use bias for the query, key and value layers or not.\n",
    "      \"\"\"\n",
    "      super().__init__()\n",
    "      # Define the netowrk structure here\n",
    "      self.num_heads = num_heads\n",
    "      self.d_out = d_out\n",
    "      \n",
    "      # Create multiple attention heads\n",
    "      self.heads = nn.ModuleList([\n",
    "          CausalSelfAttention(d_in, d_out, context_length, dropout, qkv_bias)\n",
    "          for _ in range(num_heads)\n",
    "      ])\n",
    "      \n",
    "      self.output_projection = nn.Linear(d_out * num_heads, d_in)\n",
    "      \n",
    "      self.dropout = nn.Dropout(dropout)\n",
    "\n",
    "    def forward(self, x):\n",
    "      head_outputs = [head(x) for head in self.heads]\n",
    "        \n",
    "      multihead_output = torch.cat(head_outputs, dim=-1)\n",
    "      \n",
    "      output = self.output_projection(multihead_output)\n",
    "      \n",
    "      output = self.dropout(output)\n",
    "      \n",
    "      return output"
   ]
  },
  {
   "cell_type": "markdown",
   "metadata": {
    "id": "u4SLeZu8MR4-"
   },
   "source": [
    "Sanity check."
   ]
  },
  {
   "cell_type": "code",
   "execution_count": null,
   "metadata": {
    "colab": {
     "base_uri": "https://localhost:8080/"
    },
    "id": "m6EHk20REWfM",
    "outputId": "57e558dc-f000-452e-eb12-ea8f99e6b7f6"
   },
   "outputs": [
    {
     "name": "stdout",
     "output_type": "stream",
     "text": [
      "context_vecs.shape: torch.Size([1, 512, 256])\n"
     ]
    }
   ],
   "source": [
    "torch.manual_seed(123)\n",
    "vocab_size = 50257\n",
    "context_length = 512\n",
    "d_in = 256\n",
    "num_heads = 4\n",
    "d_out = d_in // num_heads\n",
    "mha = MultiHeadAttention(d_in, d_out, context_length, 0.0, num_heads)\n",
    "\n",
    "sample_input = torch.randn(1, context_length, d_in)\n",
    "\n",
    "context_vecs = mha(sample_input)\n",
    "assert context_vecs.shape == (1, context_length, d_out * num_heads)\n",
    "print(\"context_vecs.shape:\", context_vecs.shape)"
   ]
  },
  {
   "cell_type": "markdown",
   "metadata": {
    "id": "ADzpN8rnwbcD"
   },
   "source": [
    "## Part 2: GELU Activation Function"
   ]
  },
  {
   "cell_type": "markdown",
   "metadata": {
    "id": "wmLpIkdhwlQc"
   },
   "source": [
    "The Gaussian Error Linear Unit (GELU) is an activation function that is used in modern Transformer-based models. Originally, Transformers used the Rectified Linear Unit (ReLU) as their activation function. This activation function is used in the Feedforward network that you will implement later in the assignment. GELU can be mathematically expressed as:\n",
    "\n",
    "$\\text{GELU}(x) = x \\cdot \\Phi(x)$\n",
    "\n",
    "where $\\Phi(x)$ is the cumulative distribution function of the standard normal distribution. In practice, we often use an approximation of GELU rather than the exact formula involving the CDF. This approximation is computationally more efficient and easier to implement, while still capturing the essential behavior of GELU. \n",
    "\n",
    "#### Tasks\n",
    "In the below code cell, complete the implementation of the `forward` method of the `GELU` activation function class using the first approxmiation formula given by [(Hendrycks and Gimpel, 2020)](https://arxiv.org/abs/1606.08415) (the one that that starts with $0.5x$)."
   ]
  },
  {
   "cell_type": "code",
   "execution_count": null,
   "metadata": {
    "id": "X0pTHdNZwMEF"
   },
   "outputs": [],
   "source": [
    "class GELU(nn.Module):\n",
    "    def __init__(self):\n",
    "        super().__init__()\n",
    "\n",
    "    def forward(self, x):\n",
    "        return 0.5 * x * (1 + torch.tanh(math.sqrt(2 / math.pi) * (x + 0.044715 * torch.pow(x, 3))))\n"
   ]
  },
  {
   "cell_type": "markdown",
   "metadata": {
    "id": "iY2o3BjGxFc4"
   },
   "source": [
    "## Part 3: LayerNorm\n",
    "\n",
    "Layer Normalization (LayerNorm) is a crucial technique that stabilizes the learning process. It operates on the feature dimension. For an input $x \\in \\mathbb{R}^{d}$, LayerNorm is defined as:\n",
    "\n",
    "$\\text{LayerNorm}(x) = \\gamma \\odot \\frac{x - \\mu}{\\sqrt{\\sigma^2 + \\epsilon}} + \\beta$\n",
    "\n",
    "where $\\mu = \\frac{1}{d}\\sum_{i=1}^d x_i$ is the mean, $\\sigma^2 = \\frac{1}{d}\\sum_{i=1}^d (x_i - \\mu)^2$ is the variance, $\\epsilon$ is a small constant for numerical stability (typically $10^{-5}$), $\\gamma$ and $\\beta$ are learnable scale and shift parameters respectively, and $\\odot$ denotes element-wise multiplication."
   ]
  },
  {
   "cell_type": "markdown",
   "metadata": {},
   "source": [
    "#### Tasks\n",
    "Complete the implementation of the `__init__` and `forward` functions of the `LayerNorm` class.  \n",
    "**Hint:** In `pytorch`, `nn.Parameter` is used to defined learnbale parameters."
   ]
  },
  {
   "cell_type": "code",
   "execution_count": null,
   "metadata": {
    "id": "DS4DVEpRwrsx"
   },
   "outputs": [],
   "source": [
    "class LayerNorm(nn.Module):\n",
    "    def __init__(self, hidden_dim):\n",
    "        super().__init__()\n",
    "        # Define the netowrk structure here\n",
    "        self.gamma = nn.Parameter(torch.ones(hidden_dim))\n",
    "        self.beta = nn.Parameter(torch.zeros(hidden_dim))\n",
    "        self.eps = 1e-5\n",
    "\n",
    "    def forward(self, x):\n",
    "        mean = x.mean(dim=-1, keepdim=True)\n",
    "        var = x.var(dim=-1, unbiased=False, keepdim=True)\n",
    "        x_norm = (x - mean) / torch.sqrt(var + self.eps)\n",
    "        return self.gamma * x_norm + self.beta"
   ]
  },
  {
   "cell_type": "markdown",
   "metadata": {
    "id": "lTmxjPvzz5VH"
   },
   "source": [
    "## Part 4: Feeforward Network"
   ]
  },
  {
   "cell_type": "markdown",
   "metadata": {
    "id": "8wn5BPr44aLP"
   },
   "source": [
    "The Feedforward Network (FFN) is a main component in each Transformer block, applied after the MHA layer. It consists of two linear transformations with a non-linear activation function in between, which in modern implementations is often the Gaussian Error Linear Unit (GELU) that you implemented earlier. The FFN is expressed as:\n",
    "\n",
    "$\\text{FFN}(x) = \\text{GELU}(xW_1 + b_1)W_2 + b_2$\n",
    "\n",
    "where $x \\in \\mathbb{R}^{d_\\text{model}}$ is the input, $W_1 \\in \\mathbb{R}^{d_\\text{model} \\times d_\\text{ff}}$, $W_2 \\in \\mathbb{R}^{d_\\text{ff} \\times d_\\text{model}}$ are weight matrices, and $b_1, b_2$ are bias vectors. In your implementation make sure that $d_\\text{ff} = 4\\times d_\\text{model}$. For more clarity, $d_\\text{model}$ is also referred to as the hidden layer dimension."
   ]
  },
  {
   "cell_type": "markdown",
   "metadata": {},
   "source": [
    "#### Tasks\n",
    "Complete the implementation of the `__init__` and `forward` functions of the `FeeForward` class. "
   ]
  },
  {
   "cell_type": "code",
   "execution_count": null,
   "metadata": {
    "id": "L8hbX1bVxRwJ"
   },
   "outputs": [],
   "source": [
    "class FeedForward(nn.Module):\n",
    "    def __init__(self, d_in, d_out):\n",
    "        super().__init__()\n",
    "        # Define the netowrk structure here\n",
    "        d_ff = 4 * d_in\n",
    "        self.fc1 = nn.Linear(d_in, d_ff)  \n",
    "        self.gelu = GELU()                \n",
    "        self.fc2 = nn.Linear(d_ff, d_out)\n",
    "\n",
    "    def forward(self, x):\n",
    "        x = self.fc1(x)\n",
    "        x = self.gelu(x)\n",
    "        x = self.fc2(x)\n",
    "        return x"
   ]
  },
  {
   "cell_type": "markdown",
   "metadata": {
    "id": "kldKnOB43wK8"
   },
   "source": [
    "## Part 5: The Transformer Layer and the GPT model"
   ]
  },
  {
   "cell_type": "markdown",
   "metadata": {
    "id": "ZIh1wFM_6MpP"
   },
   "source": [
    "At this stage, you have implemented all the building blocks that constitute the Transformer layer. Your task now is to assemble this layer using these blocks. Use the following illustration as a guideline to help you do so.\n",
    "<center><img src=\"https://i.imgur.com/TpHBi7y.png\" align=\"center\" width=\"250px\">\n",
    "</center>\n",
    "\n",
    "**N.B:** The Postional and Input Embedding layers are not part of the Transformer layer. You will later define those when building the GPT model. **In addition, although the figure taken from the work of Vaswani et. al show a softmax layer at the end, the implementation of the GPT model should NOT include it. The reason is the loss function that will be used to pre-train the model accepts logits and then applies softmax. Hence, if you apply softmax, you would be applying it twice.**"
   ]
  },
  {
   "cell_type": "markdown",
   "metadata": {},
   "source": [
    "Finish the implementation of the `__init__` and `forward` functions."
   ]
  },
  {
   "cell_type": "code",
   "execution_count": null,
   "metadata": {
    "id": "ar6KZZK_0GLD"
   },
   "outputs": [],
   "source": [
    "class TransformerLayer(nn.Module):\n",
    "    def __init__(self, d_in, d_out, context_length, num_heads ,dropout):\n",
    "        super().__init__()\n",
    "        # Define the netowrk structure here: MHA, FFNN, LayerNorm1, LayerNorm2\n",
    "        head_dim = d_in // num_heads\n",
    "        \n",
    "        self.ln1 = LayerNorm(d_in)\n",
    "        self.ln2 = LayerNorm(d_in)\n",
    "        \n",
    "        self.attention = MultiHeadAttention(\n",
    "            d_in=d_in,\n",
    "            d_out=head_dim,\n",
    "            context_length=context_length,\n",
    "            dropout=dropout,\n",
    "            num_heads=num_heads\n",
    "        )\n",
    "        \n",
    "        self.feedforward = FeedForward(d_in=d_in, d_out=d_out)\n",
    "        \n",
    "        self.dropout = nn.Dropout(dropout)\n",
    "\n",
    "    def forward(self, x):\n",
    "        x = x + self.dropout(self.attention(self.ln1(x)))\n",
    "        x = x + self.dropout(self.feedforward(self.ln2(x)))\n",
    "        return x"
   ]
  },
  {
   "cell_type": "markdown",
   "metadata": {},
   "source": [
    "Finish the implementation of the `__init__` and `forward` functions of the full GPT model."
   ]
  },
  {
   "cell_type": "code",
   "execution_count": null,
   "metadata": {
    "id": "2DziUiPi4WBD"
   },
   "outputs": [],
   "source": [
    "class GPT(nn.Module):\n",
    "    def __init__(self, vocab_size, d_in, d_out, context_length, num_heads, num_layers, dropout):\n",
    "        super().__init__()\n",
    "       \n",
    "        self.embedding = nn.Embedding(vocab_size, d_in)\n",
    "        self.pos_embedding = nn.Embedding(context_length, d_out)\n",
    "        self.layers = nn.ModuleList([\n",
    "            TransformerLayer(\n",
    "                d_in=d_in, \n",
    "                d_out=d_out, \n",
    "                context_length=context_length, \n",
    "                num_heads=num_heads, \n",
    "                dropout=dropout\n",
    "            ) for _ in range(num_layers)\n",
    "        ])\n",
    "        \n",
    "        self.ln_f = LayerNorm(d_out)\n",
    "        \n",
    "        self.lm_head = nn.Linear(d_out, vocab_size, bias=False)\n",
    "        \n",
    "        self.lm_head.weight = self.embedding.weight\n",
    "        \n",
    "        self.context_length = context_length\n",
    "\n",
    "    def forward(self, x):\n",
    "        batch_size, seq_len = x.size()\n",
    "\n",
    "        token_embeddings = self.embedding(x)  \n",
    "        positions = torch.arange(0, seq_len, dtype=torch.long, device=x.device)\n",
    "        position_embeddings = self.pos_embedding(positions)  \n",
    "        x = token_embeddings + position_embeddings\n",
    "\n",
    "        for layer in self.layers:\n",
    "            x = layer(x)\n",
    "\n",
    "        x = self.ln_f(x)\n",
    "\n",
    "        logits = self.lm_head(x)\n",
    "\n",
    "        return logits\n",
    "\n"
   ]
  },
  {
   "cell_type": "markdown",
   "metadata": {
    "id": "rhZ8LGJJ3zw4"
   },
   "source": [
    "## Part 6: Data Preparation and Model Pretraining"
   ]
  },
  {
   "cell_type": "markdown",
   "metadata": {},
   "source": [
    "At this stage, you have implemented the entire GPT model from scratch. Now it is time to implement the pretraining logic. This includes: data loading, data preparation, model pre-training and evaluation. In terms of pre-training data, you will need to use the Shakespeare dataset that can be found in `data/shakespeare.txt`. "
   ]
  },
  {
   "cell_type": "markdown",
   "metadata": {},
   "source": [
    "### Tasks\n",
    "\n",
    "In this last major part of the assignment, you will need to implement these steps: \n",
    "- Using `vocab.py` from Assignment 3 and the `subword_nmt` Python package, build a vocabulary of size at least `4000`.\n",
    "- Initialize a GPT model with your own choice of hyperparameters (_e.g._, number of layers, number of attention heads, hidden size dimension and so on). Note that the bigger the model the more compute you will need. For this reason, the model architecture is up to you.\n",
    "- The pre-training objective is _next token prediction_, when given a sequence $[w_1, w_2, ..., w_n]$ the model should predict the token $w_{n+1}$. This is important when preparing data into a proper format that can be fed to the model.\n",
    "- You will need to use the `F.cross_entropy` method provided by `pytorch` that calculates the cross-entropy loss.  \n",
    "- Use the AdamW optimizer to update the model's parameters. It can be imported from the `torch.optim.AdamW` package.\n",
    "- Implement the training loop that runs for at least $20K$ training steps.\n",
    "- Plot the training loss curve. You can do this after each specified number of steps or once the training finishes. However, the former strategy is recommended to monitor the training status of your model.\n",
    "- Run inference by feeding the model a prefix and see what tokens it can generate."
   ]
  },
  {
   "cell_type": "code",
   "execution_count": null,
   "metadata": {},
   "outputs": [],
   "source": [
    "### Your code goes here\n",
    "import math\n",
    "import os\n",
    "import matplotlib.pyplot as plt\n",
    "from tqdm import tqdm\n",
    "from subword_nmt.learn_bpe import learn_bpe\n",
    "from subword_nmt.apply_bpe import BPE\n",
    "from vocab import Vocab\n",
    "import numpy as np\n",
    "from IPython.display import clear_output"
   ]
  },
  {
   "cell_type": "code",
   "execution_count": null,
   "metadata": {},
   "outputs": [],
   "source": [
    "def load_data(file_path):\n",
    "    with open(file_path, 'r') as f:\n",
    "        return [line.strip().lower() for line in f.readlines()]\n",
    "\n",
    "def build_vocabulary(data, vocab_size):\n",
    "    \n",
    "    with open('temp_bpe_codes.txt', 'w') as codes:\n",
    "        learn_bpe(data, codes, vocab_size)\n",
    "    \n",
    "    with open('temp_bpe_codes.txt', 'r') as codes:\n",
    "        bpe = BPE(codes)\n",
    "    \n",
    "    tokenized_data = [bpe.process_line(line) for line in data]\n",
    "    \n",
    "    vocab = Vocab.from_lines(tokenized_data)\n",
    "    \n",
    "    return vocab, bpe, tokenized_data\n",
    "\n",
    "def prepare_data(tokenized_data, vocab, context_length):\n",
    "\n",
    "    all_tokens = ' '.join(tokenized_data).split()\n",
    "    \n",
    "    token_indices = [vocab.token_to_ix.get(token, vocab.unk_ix) for token in all_tokens]\n",
    "    \n",
    "    inputs = []\n",
    "    targets = []\n",
    "    \n",
    "    for i in range(0, len(token_indices) - context_length):\n",
    "        inputs.append(token_indices[i:i + context_length])\n",
    "        targets.append(token_indices[i + 1:i + context_length + 1])\n",
    "    \n",
    "    return torch.tensor(inputs), torch.tensor(targets)\n",
    "\n",
    "def get_random_batch(inputs, targets, batch_size):\n",
    "        total_samples = inputs.shape[0]\n",
    "        \n",
    "        random_indices = torch.randperm(total_samples)[:batch_size]\n",
    "        \n",
    "        # Select random batch\n",
    "        batch_inputs = inputs[random_indices]\n",
    "        batch_targets = targets[random_indices]\n",
    "        \n",
    "        return batch_inputs, batch_targets"
   ]
  },
  {
   "cell_type": "code",
   "execution_count": null,
   "metadata": {},
   "outputs": [],
   "source": [
    "def compute_loss(logits, targets):\n",
    "\n",
    "        batch_size, seq_len = targets.shape\n",
    "        mask = torch.zeros_like(targets, dtype=torch.bool)\n",
    "\n",
    "        for i in range(batch_size):\n",
    "                eos_positions = (targets[i] == 1).nonzero(as_tuple=True)[0]\n",
    "                if len(eos_positions) > 0:\n",
    "                        first_eos_pos = eos_positions[0].item()\n",
    "                        mask[i, :first_eos_pos+1] = True\n",
    "                else:\n",
    "                        mask[i, :] = True\n",
    "\n",
    "        mask = mask.float()\n",
    "\n",
    "        logits_flat = logits.view(-1, logits.size(-1))\n",
    "        targets_flat = targets.view(-1)\n",
    "        mask_flat = mask.view(-1)\n",
    "\n",
    "        loss_per_token = F.cross_entropy(logits_flat, targets_flat, reduction='none')\n",
    "\n",
    "        masked_loss = loss_per_token * mask_flat\n",
    "\n",
    "        total_loss = masked_loss.sum()\n",
    "\n",
    "        total_tokens = mask.sum()\n",
    "\n",
    "        average_loss = total_loss / total_tokens\n",
    "\n",
    "        return average_loss"
   ]
  },
  {
   "cell_type": "code",
   "execution_count": null,
   "metadata": {},
   "outputs": [
    {
     "name": "stderr",
     "output_type": "stream",
     "text": [
      "100%|██████████| 5000/5000 [00:02<00:00, 1970.60it/s]\n"
     ]
    }
   ],
   "source": [
    "def train_gpt(model, inputs, targets, batch_size, lr, num_steps):\n",
    "\n",
    "    optimizer = torch.optim.AdamW(model.parameters(), lr=lr)\n",
    "    \n",
    "    metrics = {'train_loss': []}\n",
    "    model.train()\n",
    "    pbar = tqdm(range(num_steps))\n",
    "    \n",
    "    for _ in pbar:\n",
    "        batch_inputs, batch_targets = get_random_batch(inputs, targets, batch_size)\n",
    "                \n",
    "        step = len(metrics['train_loss']) + 1\n",
    "        logits = model(batch_inputs)\n",
    "\n",
    "        optimizer.zero_grad()\n",
    "        loss = compute_loss(logits, batch_targets)\n",
    "        loss.backward()\n",
    "        optimizer.step()\n",
    "        \n",
    "        metrics['train_loss'].append(loss.item())\n",
    "        \n",
    "        if step % 100 == 0:\n",
    "            clear_output(wait=True)\n",
    "            plt.figure(figsize=(10, 5))\n",
    "            plt.plot(metrics['train_loss'])\n",
    "            plt.xlabel('Steps')\n",
    "            plt.ylabel('Loss')\n",
    "            plt.title('Training Loss')\n",
    "            plt.show()\n",
    "            print(\"Mean Loss=%.3f\" % np.mean(metrics['train_loss'][-10:]))\n",
    "    \n",
    "    return metrics\n",
    "\n",
    "vocab_size = 5000\n",
    "context_length = 128\n",
    "d_in = 256\n",
    "d_out = 256\n",
    "num_heads = 4\n",
    "num_layers = 4\n",
    "dropout = 0.1\n",
    "batch_size = 32\n",
    "learning_rate = 1e-3\n",
    "num_steps = 22000\n",
    "\n",
    "data = load_data('data/shakespeare.txt')\n",
    "\n",
    "vocab, bpe, tokenized_data = build_vocabulary(data, vocab_size)\n",
    "\n",
    "inputs, targets = prepare_data(tokenized_data, vocab, context_length)"
   ]
  },
  {
   "cell_type": "code",
   "execution_count": null,
   "metadata": {},
   "outputs": [
    {
     "data": {
      "image/png": "[encoded data removed]",
      "text/plain": [
       "<Figure size 1000x500 with 1 Axes>"
      ]
     },
     "metadata": {},
     "output_type": "display_data"
    },
    {
     "name": "stderr",
     "output_type": "stream",
     "text": [
      "100%|██████████| 22000/22000 [10:16:24<00:00,  1.68s/it]"
     ]
    },
    {
     "name": "stdout",
     "output_type": "stream",
     "text": [
      "Mean Loss=3.988\n"
     ]
    },
    {
     "name": "stderr",
     "output_type": "stream",
     "text": [
      "\n"
     ]
    }
   ],
   "source": [
    "model = GPT(\n",
    "    vocab_size=len(vocab),\n",
    "    d_in=d_in,\n",
    "    d_out=d_out,\n",
    "    context_length=context_length,\n",
    "    num_heads=num_heads,\n",
    "    num_layers=num_layers,\n",
    "    dropout=dropout\n",
    ")\n",
    "\n",
    "metrics = train_gpt(model, inputs, targets, batch_size, learning_rate, num_steps)"
   ]
  },
  {
   "cell_type": "code",
   "execution_count": null,
   "metadata": {},
   "outputs": [],
   "source": [
    "def generate_text(model, prefix, vocab, bpe, max_length=100, temperature=1.0):\n",
    "\n",
    "    model.eval()\n",
    "    \n",
    "    prefix_tokens = bpe.process_line(prefix.lower()).split()\n",
    "    input_ids = [vocab.token_to_ix.get(token, vocab.unk_ix) for token in prefix_tokens]\n",
    "    \n",
    "    if len(input_ids) > model.context_length:\n",
    "        input_ids = input_ids[-model.context_length:]\n",
    "    \n",
    "    while len(input_ids) < model.context_length:\n",
    "        input_ids.insert(0, vocab.bos_ix)\n",
    "    \n",
    "    input_tensor = torch.tensor([input_ids])\n",
    "    \n",
    "    generated_tokens = []\n",
    "    with torch.no_grad():\n",
    "        for _ in range(max_length):\n",
    "            logits = model(input_tensor)\n",
    "            \n",
    "            next_token_logits = logits[0, -1, :] / temperature\n",
    "            \n",
    "            probs = F.softmax(next_token_logits, dim=-1)\n",
    "            \n",
    "            next_token = torch.multinomial(probs, 1).item()\n",
    "            \n",
    "            generated_tokens.append(next_token)\n",
    "            \n",
    "            # Stop if we generate EOS\n",
    "            if next_token == vocab.eos_ix:\n",
    "                break\n",
    "            \n",
    "            input_tensor = torch.cat([input_tensor[:, 1:], torch.tensor([[next_token]])], dim=1)\n",
    "    \n",
    "    generated_text = [vocab.tokens[token_id] for token_id in generated_tokens]\n",
    "    raw_text = ' '.join(generated_text)\n",
    "    # Remove BPE separator tokens\n",
    "    detokenized_text = raw_text.replace('@@ ', '')  \n",
    "    \n",
    "    return detokenized_text"
   ]
  },
  {
   "cell_type": "code",
   "execution_count": null,
   "metadata": {},
   "outputs": [
    {
     "name": "stdout",
     "output_type": "stream",
     "text": [
      "\n",
      "Generated text with prefix 'Some are born great,':\n",
      "and words, well become your honour knowing; but virtuous love. tranio. gentlemen, like one sir valentine, you do with; if you say you do not love me, i shall find what you speak of her shall be your love. portia. you are instructed by this lineal. no, no, not a woman, and much dishonour in praise that cannot it to be certain, you are the matter to be remember'd to deny it. proteus. you were not so blasted than it is: the women moved, is to be\n"
     ]
    }
   ],
   "source": [
    "sample_prefixes = [\n",
    "    \"Some are born great,\"\n",
    "]\n",
    "\n",
    "for prefix in sample_prefixes:\n",
    "    generated = generate_text(model, prefix, vocab, bpe)\n",
    "    print(f\"\\nGenerated text with prefix '{prefix}':\")\n",
    "    print(generated)"
   ]
  },
  {
   "cell_type": "markdown",
   "metadata": {},
   "source": [
    "### Important Remarks\n",
    "\n",
    "- You may use code snippets from previous assignments in this course. Many Python function/classes from A2 and A3 implement (or partially implement) what is required.\n",
    "- The choice of the pre-training hyperparameters such as the learning rate, batch size and such is up to you.\n",
    "- You are allowed to implement extra functions in the classes that you have completed in Part 1. This may be helpful especially when running inference."
   ]
  },
  {
   "cell_type": "markdown",
   "metadata": {},
   "source": [
    "## Rubric\n",
    "\n",
    "- Part 1: MSA /3  \n",
    "\t- Causal SA: /2  \n",
    "\t- MHA: /1  \n",
    "\n",
    "- Part 2: GELU: /1  \n",
    "- Part 3: LayerNorm /1.5  \n",
    "- Part 4: FeedForward: /1  \n",
    "- Part 5: Full GPT Model: /4:\n",
    "\t- Tansformer Layer: /2  \n",
    "\t- GPT Model: /2  \n",
    "\n",
    "Part 6: Data Preparation and Model Pretraining /2.5\n",
    "\n",
    "Total: /12"
   ]
  },
  {
   "cell_type": "markdown",
   "metadata": {},
   "source": []
  }
 ],
 "metadata": {
  "colab": {
   "provenance": []
  },
  "kernelspec": {
   "display_name": "venv",
   "language": "python",
   "name": "python3"
  },
  "language_info": {
   "codemirror_mode": {
    "name": "ipython",
    "version": 3
   },
   "file_extension": ".py",
   "mimetype": "text/x-python",
   "name": "python",
   "nbconvert_exporter": "python",
   "pygments_lexer": "ipython3",
   "version": "3.13.1"
  }
 },
 "nbformat": 4,
 "nbformat_minor": 4
}
